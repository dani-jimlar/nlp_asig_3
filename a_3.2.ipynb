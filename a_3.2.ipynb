{
 "cells": [
  {
   "cell_type": "code",
   "execution_count": 1,
   "metadata": {},
   "outputs": [],
   "source": [
    "from typing import Sequence, Tuple, TypeVar\n",
    "import nltk\n",
    "from nltk.corpus import brown\n",
    "import numpy as np\n",
    "\n",
    "Q = TypeVar(\"Q\")\n",
    "V = TypeVar(\"V\")"
   ]
  },
  {
   "cell_type": "code",
   "execution_count": 2,
   "metadata": {},
   "outputs": [
    {
     "data": {
      "text/plain": [
       "[[('The', 'DET'), ('Fulton', 'NOUN'), ('County', 'NOUN'), ('Grand', 'ADJ'), ('Jury', 'NOUN'), ('said', 'VERB'), ('Friday', 'NOUN'), ('an', 'DET'), ('investigation', 'NOUN'), ('of', 'ADP'), (\"Atlanta's\", 'NOUN'), ('recent', 'ADJ'), ('primary', 'NOUN'), ('election', 'NOUN'), ('produced', 'VERB'), ('``', '.'), ('no', 'DET'), ('evidence', 'NOUN'), (\"''\", '.'), ('that', 'ADP'), ('any', 'DET'), ('irregularities', 'NOUN'), ('took', 'VERB'), ('place', 'NOUN'), ('.', '.')], [('The', 'DET'), ('jury', 'NOUN'), ('further', 'ADV'), ('said', 'VERB'), ('in', 'ADP'), ('term-end', 'NOUN'), ('presentments', 'NOUN'), ('that', 'ADP'), ('the', 'DET'), ('City', 'NOUN'), ('Executive', 'ADJ'), ('Committee', 'NOUN'), (',', '.'), ('which', 'DET'), ('had', 'VERB'), ('over-all', 'ADJ'), ('charge', 'NOUN'), ('of', 'ADP'), ('the', 'DET'), ('election', 'NOUN'), (',', '.'), ('``', '.'), ('deserves', 'VERB'), ('the', 'DET'), ('praise', 'NOUN'), ('and', 'CONJ'), ('thanks', 'NOUN'), ('of', 'ADP'), ('the', 'DET'), ('City', 'NOUN'), ('of', 'ADP'), ('Atlanta', 'NOUN'), (\"''\", '.'), ('for', 'ADP'), ('the', 'DET'), ('manner', 'NOUN'), ('in', 'ADP'), ('which', 'DET'), ('the', 'DET'), ('election', 'NOUN'), ('was', 'VERB'), ('conducted', 'VERB'), ('.', '.')], ...]"
      ]
     },
     "execution_count": 2,
     "metadata": {},
     "output_type": "execute_result"
    }
   ],
   "source": [
    "corpus = nltk.corpus.brown.tagged_sents(tagset=\"universal\")[:10000]\n",
    "corpus"
   ]
  },
  {
   "cell_type": "code",
   "execution_count": 3,
   "metadata": {},
   "outputs": [
    {
     "data": {
      "text/plain": [
       "[[('The', 'DET'), ('Fulton', 'NOUN'), ('County', 'NOUN'), ('Grand', 'ADJ'), ('Jury', 'NOUN'), ('said', 'VERB'), ('Friday', 'NOUN'), ('an', 'DET'), ('investigation', 'NOUN'), ('of', 'ADP'), (\"Atlanta's\", 'NOUN'), ('recent', 'ADJ'), ('primary', 'NOUN'), ('election', 'NOUN'), ('produced', 'VERB'), ('``', '.'), ('no', 'DET'), ('evidence', 'NOUN'), (\"''\", '.'), ('that', 'ADP'), ('any', 'DET'), ('irregularities', 'NOUN'), ('took', 'VERB'), ('place', 'NOUN'), ('.', '.')], [('The', 'DET'), ('jury', 'NOUN'), ('further', 'ADV'), ('said', 'VERB'), ('in', 'ADP'), ('term-end', 'NOUN'), ('presentments', 'NOUN'), ('that', 'ADP'), ('the', 'DET'), ('City', 'NOUN'), ('Executive', 'ADJ'), ('Committee', 'NOUN'), (',', '.'), ('which', 'DET'), ('had', 'VERB'), ('over-all', 'ADJ'), ('charge', 'NOUN'), ('of', 'ADP'), ('the', 'DET'), ('election', 'NOUN'), (',', '.'), ('``', '.'), ('deserves', 'VERB'), ('the', 'DET'), ('praise', 'NOUN'), ('and', 'CONJ'), ('thanks', 'NOUN'), ('of', 'ADP'), ('the', 'DET'), ('City', 'NOUN'), ('of', 'ADP'), ('Atlanta', 'NOUN'), (\"''\", '.'), ('for', 'ADP'), ('the', 'DET'), ('manner', 'NOUN'), ('in', 'ADP'), ('which', 'DET'), ('the', 'DET'), ('election', 'NOUN'), ('was', 'VERB'), ('conducted', 'VERB'), ('.', '.')], ...]"
      ]
     },
     "execution_count": 3,
     "metadata": {},
     "output_type": "execute_result"
    }
   ],
   "source": [
    "tagged_corpus = nltk.corpus.brown.tagged_sents(tagset=\"universal\")[:10_000]\n",
    "tagged_corpus"
   ]
  },
  {
   "cell_type": "code",
   "execution_count": 100,
   "metadata": {},
   "outputs": [
    {
     "data": {
      "text/plain": [
       "[[('The', 'DET'),\n",
       "  ('Fulton', 'NOUN'),\n",
       "  ('County', 'NOUN'),\n",
       "  ('Grand', 'ADJ'),\n",
       "  ('Jury', 'NOUN'),\n",
       "  ('said', 'VERB'),\n",
       "  ('Friday', 'NOUN'),\n",
       "  ('an', 'DET'),\n",
       "  ('investigation', 'NOUN'),\n",
       "  ('of', 'ADP'),\n",
       "  (\"Atlanta's\", 'NOUN'),\n",
       "  ('recent', 'ADJ'),\n",
       "  ('primary', 'NOUN'),\n",
       "  ('election', 'NOUN'),\n",
       "  ('produced', 'VERB'),\n",
       "  ('``', '.'),\n",
       "  ('no', 'DET'),\n",
       "  ('evidence', 'NOUN'),\n",
       "  (\"''\", '.'),\n",
       "  ('that', 'ADP'),\n",
       "  ('any', 'DET'),\n",
       "  ('irregularities', 'NOUN'),\n",
       "  ('took', 'VERB'),\n",
       "  ('place', 'NOUN'),\n",
       "  ('.', '.')],\n",
       " [('The', 'DET'),\n",
       "  ('jury', 'NOUN'),\n",
       "  ('further', 'ADV'),\n",
       "  ('said', 'VERB'),\n",
       "  ('in', 'ADP'),\n",
       "  ('term-end', 'NOUN'),\n",
       "  ('presentments', 'NOUN'),\n",
       "  ('that', 'ADP'),\n",
       "  ('the', 'DET'),\n",
       "  ('City', 'NOUN'),\n",
       "  ('Executive', 'ADJ'),\n",
       "  ('Committee', 'NOUN'),\n",
       "  (',', '.'),\n",
       "  ('which', 'DET'),\n",
       "  ('had', 'VERB'),\n",
       "  ('over-all', 'ADJ'),\n",
       "  ('charge', 'NOUN'),\n",
       "  ('of', 'ADP'),\n",
       "  ('the', 'DET'),\n",
       "  ('election', 'NOUN'),\n",
       "  (',', '.'),\n",
       "  ('``', '.'),\n",
       "  ('deserves', 'VERB'),\n",
       "  ('the', 'DET'),\n",
       "  ('praise', 'NOUN'),\n",
       "  ('and', 'CONJ'),\n",
       "  ('thanks', 'NOUN'),\n",
       "  ('of', 'ADP'),\n",
       "  ('the', 'DET'),\n",
       "  ('City', 'NOUN'),\n",
       "  ('of', 'ADP'),\n",
       "  ('Atlanta', 'NOUN'),\n",
       "  (\"''\", '.'),\n",
       "  ('for', 'ADP'),\n",
       "  ('the', 'DET'),\n",
       "  ('manner', 'NOUN'),\n",
       "  ('in', 'ADP'),\n",
       "  ('which', 'DET'),\n",
       "  ('the', 'DET'),\n",
       "  ('election', 'NOUN'),\n",
       "  ('was', 'VERB'),\n",
       "  ('conducted', 'VERB'),\n",
       "  ('.', '.')],\n",
       " [('The', 'DET'),\n",
       "  ('September-October', 'NOUN'),\n",
       "  ('term', 'NOUN'),\n",
       "  ('jury', 'NOUN'),\n",
       "  ('had', 'VERB'),\n",
       "  ('been', 'VERB'),\n",
       "  ('charged', 'VERB'),\n",
       "  ('by', 'ADP'),\n",
       "  ('Fulton', 'NOUN'),\n",
       "  ('Superior', 'ADJ'),\n",
       "  ('Court', 'NOUN'),\n",
       "  ('Judge', 'NOUN'),\n",
       "  ('Durwood', 'NOUN'),\n",
       "  ('Pye', 'NOUN'),\n",
       "  ('to', 'PRT'),\n",
       "  ('investigate', 'VERB'),\n",
       "  ('reports', 'NOUN'),\n",
       "  ('of', 'ADP'),\n",
       "  ('possible', 'ADJ'),\n",
       "  ('``', '.'),\n",
       "  ('irregularities', 'NOUN'),\n",
       "  (\"''\", '.'),\n",
       "  ('in', 'ADP'),\n",
       "  ('the', 'DET'),\n",
       "  ('hard-fought', 'ADJ'),\n",
       "  ('primary', 'NOUN'),\n",
       "  ('which', 'DET'),\n",
       "  ('was', 'VERB'),\n",
       "  ('won', 'VERB'),\n",
       "  ('by', 'ADP'),\n",
       "  ('Mayor-nominate', 'NOUN'),\n",
       "  ('Ivan', 'NOUN'),\n",
       "  ('Allen', 'NOUN'),\n",
       "  ('Jr.', 'NOUN'),\n",
       "  ('.', '.')],\n",
       " [('``', '.'),\n",
       "  ('Only', 'ADV'),\n",
       "  ('a', 'DET'),\n",
       "  ('relative', 'ADJ'),\n",
       "  ('handful', 'NOUN'),\n",
       "  ('of', 'ADP'),\n",
       "  ('such', 'ADJ'),\n",
       "  ('reports', 'NOUN'),\n",
       "  ('was', 'VERB'),\n",
       "  ('received', 'VERB'),\n",
       "  (\"''\", '.'),\n",
       "  (',', '.'),\n",
       "  ('the', 'DET'),\n",
       "  ('jury', 'NOUN'),\n",
       "  ('said', 'VERB'),\n",
       "  (',', '.'),\n",
       "  ('``', '.'),\n",
       "  ('considering', 'ADP'),\n",
       "  ('the', 'DET'),\n",
       "  ('widespread', 'ADJ'),\n",
       "  ('interest', 'NOUN'),\n",
       "  ('in', 'ADP'),\n",
       "  ('the', 'DET'),\n",
       "  ('election', 'NOUN'),\n",
       "  (',', '.'),\n",
       "  ('the', 'DET'),\n",
       "  ('number', 'NOUN'),\n",
       "  ('of', 'ADP'),\n",
       "  ('voters', 'NOUN'),\n",
       "  ('and', 'CONJ'),\n",
       "  ('the', 'DET'),\n",
       "  ('size', 'NOUN'),\n",
       "  ('of', 'ADP'),\n",
       "  ('this', 'DET'),\n",
       "  ('city', 'NOUN'),\n",
       "  (\"''\", '.'),\n",
       "  ('.', '.')],\n",
       " [('The', 'DET'),\n",
       "  ('jury', 'NOUN'),\n",
       "  ('said', 'VERB'),\n",
       "  ('it', 'PRON'),\n",
       "  ('did', 'VERB'),\n",
       "  ('find', 'VERB'),\n",
       "  ('that', 'ADP'),\n",
       "  ('many', 'ADJ'),\n",
       "  ('of', 'ADP'),\n",
       "  (\"Georgia's\", 'NOUN'),\n",
       "  ('registration', 'NOUN'),\n",
       "  ('and', 'CONJ'),\n",
       "  ('election', 'NOUN'),\n",
       "  ('laws', 'NOUN'),\n",
       "  ('``', '.'),\n",
       "  ('are', 'VERB'),\n",
       "  ('outmoded', 'ADJ'),\n",
       "  ('or', 'CONJ'),\n",
       "  ('inadequate', 'ADJ'),\n",
       "  ('and', 'CONJ'),\n",
       "  ('often', 'ADV'),\n",
       "  ('ambiguous', 'ADJ'),\n",
       "  (\"''\", '.'),\n",
       "  ('.', '.')]]"
      ]
     },
     "execution_count": 100,
     "metadata": {},
     "output_type": "execute_result"
    }
   ],
   "source": [
    "tagged_corpus2 = nltk.corpus.brown.tagged_sents(tagset=\"universal\")[:5]\n",
    "tagged_corpus2"
   ]
  },
  {
   "cell_type": "code",
   "execution_count": 10,
   "metadata": {},
   "outputs": [],
   "source": [
    "### fun to count repeated elements in list\n",
    "def count_ngrams(lst):\n",
    "    element_count = {}\n",
    "    for item in lst:\n",
    "        if item in element_count:\n",
    "            element_count[item] += 1\n",
    "        else:\n",
    "            element_count[item] = 1\n",
    "    return element_count"
   ]
  },
  {
   "cell_type": "code",
   "execution_count": 95,
   "metadata": {},
   "outputs": [],
   "source": [
    "## use corpus 2 t reduce\n",
    "\n",
    "# generate list with all POS from corpus\n",
    "POS_list = []\n",
    "for i in tagged_corpus2:\n",
    "    POS_list += [tup[1] for tup in i]"
   ]
  },
  {
   "cell_type": "code",
   "execution_count": 97,
   "metadata": {},
   "outputs": [],
   "source": [
    "# build dictioanary of counts of each POS\n",
    "POS_counts = count_ngrams(POS_list)\n",
    "# list of POS in corpus from dictionary POS_counts\n",
    "list_pos = list(POS_counts.keys())\n",
    "# list of POS counts from dictionary POS_counts\n",
    "list_counts_pos = list(POS_counts.values())\n",
    "# build list of probabilites out of counts\n",
    "ts = sum(list_counts_pos)\n",
    "pi = [c / ts for c in list_counts_pos]"
   ]
  },
  {
   "cell_type": "code",
   "execution_count": 98,
   "metadata": {},
   "outputs": [
    {
     "name": "stdout",
     "output_type": "stream",
     "text": [
      "['DET', 'NOUN', 'NOUN', 'ADJ', 'NOUN', 'VERB', 'NOUN', 'DET', 'NOUN', 'ADP', 'NOUN', 'ADJ', 'NOUN', 'NOUN', 'VERB', '.', 'DET', 'NOUN', '.', 'ADP', 'DET', 'NOUN', 'VERB', 'NOUN', '.', 'DET', 'NOUN', 'ADV', 'VERB', 'ADP', 'NOUN', 'NOUN', 'ADP', 'DET', 'NOUN', 'ADJ', 'NOUN', '.', 'DET', 'VERB', 'ADJ', 'NOUN', 'ADP', 'DET', 'NOUN', '.', '.', 'VERB', 'DET', 'NOUN', 'CONJ', 'NOUN', 'ADP', 'DET', 'NOUN', 'ADP', 'NOUN', '.', 'ADP', 'DET', 'NOUN', 'ADP', 'DET', 'DET', 'NOUN', 'VERB', 'VERB', '.', 'DET', 'NOUN', 'NOUN', 'NOUN', 'VERB', 'VERB', 'VERB', 'ADP', 'NOUN', 'ADJ', 'NOUN', 'NOUN', 'NOUN', 'NOUN', 'PRT', 'VERB', 'NOUN', 'ADP', 'ADJ', '.', 'NOUN', '.', 'ADP', 'DET', 'ADJ', 'NOUN', 'DET', 'VERB', 'VERB', 'ADP', 'NOUN', 'NOUN', 'NOUN', 'NOUN', '.', '.', 'ADV', 'DET', 'ADJ', 'NOUN', 'ADP', 'ADJ', 'NOUN', 'VERB', 'VERB', '.', '.', 'DET', 'NOUN', 'VERB', '.', '.', 'ADP', 'DET', 'ADJ', 'NOUN', 'ADP', 'DET', 'NOUN', '.', 'DET', 'NOUN', 'ADP', 'NOUN', 'CONJ', 'DET', 'NOUN', 'ADP', 'DET', 'NOUN', '.', '.', 'DET', 'NOUN', 'VERB', 'PRON', 'VERB', 'VERB', 'ADP', 'ADJ', 'ADP', 'NOUN', 'NOUN', 'CONJ', 'NOUN', 'NOUN', '.', 'VERB', 'ADJ', 'CONJ', 'ADJ', 'CONJ', 'ADV', 'ADJ', '.', '.']\n",
      "{'DET': 24, 'NOUN': 53, 'ADJ': 14, 'VERB': 21, 'ADP': 20, '.': 22, 'ADV': 3, 'CONJ': 5, 'PRT': 1, 'PRON': 1}\n",
      "orden pi: ['DET', 'NOUN', 'ADJ', 'VERB', 'ADP', '.', 'ADV', 'CONJ', 'PRT', 'PRON']\n",
      "[24, 53, 14, 21, 20, 22, 3, 5, 1, 1]\n",
      "[0.14634146341463414, 0.3231707317073171, 0.08536585365853659, 0.12804878048780488, 0.12195121951219512, 0.13414634146341464, 0.018292682926829267, 0.03048780487804878, 0.006097560975609756, 0.006097560975609756]\n",
      "suma de probs en pi: 1.0\n"
     ]
    }
   ],
   "source": [
    "# print pretty\n",
    "print(POS_list)\n",
    "print(POS_counts)\n",
    "print(\"orden pi:\", list_pos)\n",
    "print(list_counts_pos)\n",
    "print(pi)\n",
    "print(\"suma de probs en pi:\", sum(pi))"
   ]
  },
  {
   "cell_type": "code",
   "execution_count": 105,
   "metadata": {},
   "outputs": [
    {
     "name": "stdout",
     "output_type": "stream",
     "text": [
      "['DET', 'NOUN', 'ADJ', 'VERB', 'ADP', '.', 'ADV', 'CONJ', 'PRT', 'PRON']\n",
      "[[ 1. 18.  3.  2.  0.  0.  0.  0.  0.  0.]\n",
      " [ 2. 13.  4.  8. 11. 10.  1.  3.  1.  0.]\n",
      " [ 0.  9.  0.  0.  1.  2.  0.  2.  0.  0.]\n",
      " [ 1.  3.  2.  6.  4.  4.  0.  0.  0.  1.]\n",
      " [10.  7.  3.  0.  0.  0.  0.  0.  0.  0.]\n",
      " [ 7.  1.  0.  2.  4.  6.  1.  0.  0.  0.]\n",
      " [ 1.  0.  1.  1.  0.  0.  0.  0.  0.  0.]\n",
      " [ 1.  2.  1.  0.  0.  0.  1.  0.  0.  0.]\n",
      " [ 0.  0.  0.  1.  0.  0.  0.  0.  0.  0.]\n",
      " [ 0.  0.  0.  1.  0.  0.  0.  0.  0.  0.]]\n"
     ]
    }
   ],
   "source": [
    "# matrix a\n",
    "\n",
    "## build dict of transition counts\n",
    "# function to build bigrams\n",
    "n_grams = [tuple(POS_list[i : i + 2]) for i in range(len(POS_list) - 1)]\n",
    "# function to count bigrams, stores tuple of bigram as keys and repetition count as value---\n",
    "d_pos_counts = count_ngrams(n_grams)\n",
    "\n",
    "## build matrix\n",
    "# build cols for matrix according to order of pi\n",
    "unique_pos2 = list_pos\n",
    "# build empty matix with rows and cols using pos order from pi\n",
    "matrix_a = np.zeros((len(unique_pos2), len(unique_pos2)))\n",
    "\n",
    "# Populate the matrix with values from the dictionary\n",
    "for (pos1, pos2), count in d_pos_counts.items():\n",
    "    matrix_a[unique_pos2.index(pos1)][unique_pos2.index(pos2)] = count\n",
    "\n",
    "# Display the matrix\n",
    "print(unique_pos2)\n",
    "print(matrix_a)"
   ]
  },
  {
   "cell_type": "code",
   "execution_count": 107,
   "metadata": {},
   "outputs": [
    {
     "name": "stdout",
     "output_type": "stream",
     "text": [
      "[0.16666666666666666, 0.03773584905660377, 0.018867924528301886, 0.07142857142857142, 0.018867924528301886, 0.19047619047619047, 0.018867924528301886, 0.041666666666666664, 0.018867924528301886, 0.45, 0.018867924528301886, 0.07142857142857142, 0.03773584905660377, 0.09433962264150944, 0.047619047619047616, 0.2727272727272727, 0.041666666666666664, 0.018867924528301886, 0.2727272727272727, 0.15, 0.041666666666666664, 0.03773584905660377, 0.047619047619047616, 0.018867924528301886, 0.22727272727272727, 0.07547169811320754, 0.3333333333333333, 0.2, 0.018867924528301886, 0.018867924528301886, 0.5, 0.03773584905660377, 0.07142857142857142, 0.018867924528301886, 0.22727272727272727, 0.125, 0.09523809523809523, 0.07142857142857142, 0.018867924528301886, 0.047619047619047616, 0.018867924528301886, 0.8, 0.018867924528301886, 0.018867924528301886, 0.05, 0.018867924528301886, 0.14285714285714285, 0.047619047619047616, 0.018867924528301886, 0.018867924528301886, 0.047619047619047616, 0.047619047619047616, 0.1, 0.07142857142857142, 0.018867924528301886, 0.018867924528301886, 0.018867924528301886, 0.018867924528301886, 1.0, 0.047619047619047616, 0.03773584905660377, 0.07142857142857142, 0.07142857142857142, 0.047619047619047616, 0.018867924528301886, 0.018867924528301886, 0.018867924528301886, 0.018867924528301886, 0.3333333333333333, 0.041666666666666664, 0.07142857142857142, 0.018867924528301886, 0.07142857142857142, 0.047619047619047616, 0.05, 0.07142857142857142, 0.018867924528301886, 0.018867924528301886, 0.018867924528301886, 0.018867924528301886, 0.041666666666666664, 0.018867924528301886, 1.0, 0.047619047619047616, 0.047619047619047616, 0.07142857142857142, 0.018867924528301886, 0.018867924528301886, 0.018867924528301886, 0.047619047619047616, 0.07142857142857142, 0.2, 0.07142857142857142, 0.3333333333333333, 0.07142857142857142]\n"
     ]
    }
   ],
   "source": [
    "# build matrix B\n",
    "## build list of only tuples of word-POS from tagged_corpus2\n",
    "list_wp = [tuple_item for sublist in tagged_corpus2 for tuple_item in sublist]\n",
    "# count bigrams, stores tuple of bigram as keys and repetition count as value---\n",
    "d_wp_co = count_ngrams(list_wp)\n",
    "\n",
    "# use dic pos_counts to calulate probability of  each  word-pos/pos\n",
    "pwp = [value / POS_counts[pos] for (word, pos), value in d_wp_co.items()]\n",
    "print(pwp)\n",
    "## build matrix"
   ]
  },
  {
   "cell_type": "code",
   "execution_count": 109,
   "metadata": {},
   "outputs": [
    {
     "data": {
      "text/plain": [
       "95"
      ]
     },
     "execution_count": 109,
     "metadata": {},
     "output_type": "execute_result"
    }
   ],
   "source": [
    "len(list_wp)\n",
    "len(pwp)"
   ]
  }
 ],
 "metadata": {
  "kernelspec": {
   "display_name": "base",
   "language": "python",
   "name": "python3"
  },
  "language_info": {
   "codemirror_mode": {
    "name": "ipython",
    "version": 3
   },
   "file_extension": ".py",
   "mimetype": "text/x-python",
   "name": "python",
   "nbconvert_exporter": "python",
   "pygments_lexer": "ipython3",
   "version": "3.11.5"
  },
  "orig_nbformat": 4
 },
 "nbformat": 4,
 "nbformat_minor": 2
}
